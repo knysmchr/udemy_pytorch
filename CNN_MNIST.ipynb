{
 "cells": [
  {
   "cell_type": "code",
   "execution_count": 1,
   "source": [
    "import torch\n",
    "import torch.nn as nn\n",
    "import torch.nn.functional as F\n",
    "from torch.utils.data import DataLoader\n",
    "from torchvision import datasets, transforms\n",
    "import math\n",
    "import numpy as np\n",
    "import pandas as pd\n",
    "import matplotlib.pyplot as plt\n",
    "%matplotlib inline"
   ],
   "outputs": [],
   "metadata": {}
  },
  {
   "cell_type": "code",
   "execution_count": 2,
   "source": [
    "transform = transforms.ToTensor()\n",
    "\n",
    "train_data = datasets.MNIST(root='./data', train=True, download=True, transform=transform)\n",
    "test_data = datasets.MNIST(root='./data', train=False, download=True, transform=transform)"
   ],
   "outputs": [
    {
     "output_type": "stream",
     "name": "stdout",
     "text": [
      "Downloading http://yann.lecun.com/exdb/mnist/train-images-idx3-ubyte.gz\n",
      "Downloading http://yann.lecun.com/exdb/mnist/train-images-idx3-ubyte.gz to ./data/MNIST/raw/train-images-idx3-ubyte.gz\n"
     ]
    },
    {
     "output_type": "stream",
     "name": "stderr",
     "text": [
      "9913344it [00:00, 10574892.49it/s]                             \n"
     ]
    },
    {
     "output_type": "stream",
     "name": "stdout",
     "text": [
      "Extracting ./data/MNIST/raw/train-images-idx3-ubyte.gz to ./data/MNIST/raw\n"
     ]
    },
    {
     "output_type": "stream",
     "name": "stderr",
     "text": [
      "29696it [00:00, 6729377.69it/s]          "
     ]
    },
    {
     "output_type": "stream",
     "name": "stdout",
     "text": [
      "\n",
      "Downloading http://yann.lecun.com/exdb/mnist/train-labels-idx1-ubyte.gz\n",
      "Downloading http://yann.lecun.com/exdb/mnist/train-labels-idx1-ubyte.gz to ./data/MNIST/raw/train-labels-idx1-ubyte.gz\n",
      "Extracting ./data/MNIST/raw/train-labels-idx1-ubyte.gz to ./data/MNIST/raw\n",
      "\n",
      "Downloading http://yann.lecun.com/exdb/mnist/t10k-images-idx3-ubyte.gz\n"
     ]
    },
    {
     "output_type": "stream",
     "name": "stderr",
     "text": [
      "\n",
      " 27%|██▋       | 448512/1648877 [00:00<00:00, 4282354.88it/s]"
     ]
    },
    {
     "output_type": "stream",
     "name": "stdout",
     "text": [
      "Downloading http://yann.lecun.com/exdb/mnist/t10k-images-idx3-ubyte.gz to ./data/MNIST/raw/t10k-images-idx3-ubyte.gz\n"
     ]
    },
    {
     "output_type": "stream",
     "name": "stderr",
     "text": [
      "1649664it [00:00, 5194483.53it/s]                            \n"
     ]
    },
    {
     "output_type": "stream",
     "name": "stdout",
     "text": [
      "Extracting ./data/MNIST/raw/t10k-images-idx3-ubyte.gz to ./data/MNIST/raw\n",
      "\n",
      "Downloading http://yann.lecun.com/exdb/mnist/t10k-labels-idx1-ubyte.gz\n",
      "Downloading http://yann.lecun.com/exdb/mnist/t10k-labels-idx1-ubyte.gz to ./data/MNIST/raw/t10k-labels-idx1-ubyte.gz\n"
     ]
    },
    {
     "output_type": "stream",
     "name": "stderr",
     "text": [
      "5120it [00:00, 12250334.56it/s]         "
     ]
    },
    {
     "output_type": "stream",
     "name": "stdout",
     "text": [
      "Extracting ./data/MNIST/raw/t10k-labels-idx1-ubyte.gz to ./data/MNIST/raw\n",
      "\n"
     ]
    },
    {
     "output_type": "stream",
     "name": "stderr",
     "text": [
      "\n",
      "/opt/anaconda3/lib/python3.8/site-packages/torchvision/datasets/mnist.py:498: UserWarning: The given NumPy array is not writeable, and PyTorch does not support non-writeable tensors. This means you can write to the underlying (supposedly non-writeable) NumPy array using the tensor. You may want to copy the array to protect its data or make it writeable before converting it to a tensor. This type of warning will be suppressed for the rest of this program. (Triggered internally at  /Users/distiller/project/conda/conda-bld/pytorch_1623459044803/work/torch/csrc/utils/tensor_numpy.cpp:180.)\n",
      "  return torch.from_numpy(parsed.astype(m[2], copy=False)).view(*s)\n"
     ]
    }
   ],
   "metadata": {}
  },
  {
   "cell_type": "code",
   "execution_count": 3,
   "source": [
    "train_data"
   ],
   "outputs": [
    {
     "output_type": "execute_result",
     "data": {
      "text/plain": [
       "Dataset MNIST\n",
       "    Number of datapoints: 60000\n",
       "    Root location: ./data\n",
       "    Split: Train\n",
       "    StandardTransform\n",
       "Transform: ToTensor()"
      ]
     },
     "metadata": {},
     "execution_count": 3
    }
   ],
   "metadata": {}
  },
  {
   "cell_type": "code",
   "execution_count": 4,
   "source": [
    "test_data"
   ],
   "outputs": [
    {
     "output_type": "execute_result",
     "data": {
      "text/plain": [
       "Dataset MNIST\n",
       "    Number of datapoints: 10000\n",
       "    Root location: ./data\n",
       "    Split: Test\n",
       "    StandardTransform\n",
       "Transform: ToTensor()"
      ]
     },
     "metadata": {},
     "execution_count": 4
    }
   ],
   "metadata": {}
  },
  {
   "cell_type": "code",
   "execution_count": 12,
   "source": [
    "class CNNModel(nn.Module):\n",
    "    def __init__(self):\n",
    "        super().__init__()\n",
    "        self.conv1 = nn.Conv2d(1, 6, 3, 1)\n",
    "        self.conv2 = nn.Conv2d(6, 16, 3, 1)\n",
    "        self.fc1 = nn.Linear(5*5*16, 120)\n",
    "        self.fc2 = nn.Linear(120, 84)\n",
    "        self.fc3 = nn.Linear(84, 10)\n",
    "\n",
    "    def forward(self, x):\n",
    "        x = F.relu(self.conv1(x))\n",
    "        x = F.max_pool2d(x, 2, 2)\n",
    "        x = F.relu(self.conv2(x))\n",
    "        x = F.max_pool2d(x, 2, 2)\n",
    "        x = x.view(-1, 5*5*16)\n",
    "        x = F.relu(self.fc1(x))\n",
    "        x = F.relu(self.fc2(x))\n",
    "        x = self.fc3(x)\n",
    "        return x"
   ],
   "outputs": [],
   "metadata": {}
  },
  {
   "cell_type": "code",
   "execution_count": 13,
   "source": [
    "torch.manual_seed(3)\n",
    "model = CNNModel()\n",
    "batchsize = 5\n",
    "\n",
    "train_loader = DataLoader(train_data, batch_size=batchsize, shuffle=True)\n",
    "test_loader = DataLoader(test_data, batch_size=100000, shuffle=False)"
   ],
   "outputs": [],
   "metadata": {}
  },
  {
   "cell_type": "code",
   "execution_count": 14,
   "source": [
    "for i, (X_train, y_train) in enumerate(train_loader):\n",
    "    y_pred = model(X_train)\n",
    "    break\n"
   ],
   "outputs": [],
   "metadata": {}
  },
  {
   "cell_type": "code",
   "execution_count": 15,
   "source": [
    "criterion = nn.CrossEntropyLoss()\n",
    "optimizer = torch.optim.Adam(model.parameters(), lr=0.001)"
   ],
   "outputs": [],
   "metadata": {}
  },
  {
   "cell_type": "code",
   "execution_count": 16,
   "source": [
    "epochs = 3\n",
    "loss_list = []\n",
    "accuracy_list = []\n",
    "\n",
    "loss_temp = 0\n",
    "\n",
    "for epoch in range(epochs):\n",
    "    correct_counter = 0\n",
    "\n",
    "    for i, (X_train, y_train) in enumerate(train_loader):\n",
    "        i += 1\n",
    "        y_pred = model(X_train)\n",
    "        loss = criterion(y_pred, y_train)\n",
    "\n",
    "        predicted_y = torch.max(y_pred.data, 1)[1]\n",
    "        correct_temp = (predicted_y == y_train).sum()\n",
    "        correct_counter += correct_temp\n",
    "        loss_temp += loss.item()\n",
    "\n",
    "        optimizer.zero_grad()\n",
    "        loss.backward()\n",
    "        optimizer.step()\n",
    "\n",
    "        if i % 1200 == 0:\n",
    "            lossval = loss_temp / 1200\n",
    "            print(f'Epoch: {epoch+1} {5*i}/60000 loss: {lossval:.3f} accuracy: {correct_counter.item()*100/(6000):.3f}')\n",
    "\n",
    "            loss_list.append(lossval)\n",
    "            accuracy_list.append(correct_counter.item()*100/6000)\n",
    "            loss_temp = 0\n",
    "            correct_counter = 0"
   ],
   "outputs": [
    {
     "output_type": "stream",
     "name": "stdout",
     "text": [
      "Epoch: 1 6000/60000 loss: 0.510 accuracy: 83.017\n",
      "Epoch: 1 12000/60000 loss: 0.175 accuracy: 94.317\n",
      "Epoch: 1 18000/60000 loss: 0.151 accuracy: 95.233\n",
      "Epoch: 1 24000/60000 loss: 0.125 accuracy: 96.367\n",
      "Epoch: 1 30000/60000 loss: 0.107 accuracy: 96.717\n",
      "Epoch: 1 36000/60000 loss: 0.093 accuracy: 97.217\n",
      "Epoch: 1 42000/60000 loss: 0.089 accuracy: 97.467\n",
      "Epoch: 1 48000/60000 loss: 0.083 accuracy: 97.667\n",
      "Epoch: 1 54000/60000 loss: 0.087 accuracy: 97.500\n",
      "Epoch: 1 60000/60000 loss: 0.072 accuracy: 97.750\n",
      "Epoch: 2 6000/60000 loss: 0.066 accuracy: 97.950\n",
      "Epoch: 2 12000/60000 loss: 0.069 accuracy: 97.717\n",
      "Epoch: 2 18000/60000 loss: 0.056 accuracy: 98.383\n",
      "Epoch: 2 24000/60000 loss: 0.066 accuracy: 97.917\n",
      "Epoch: 2 30000/60000 loss: 0.056 accuracy: 98.183\n",
      "Epoch: 2 36000/60000 loss: 0.052 accuracy: 98.300\n",
      "Epoch: 2 42000/60000 loss: 0.059 accuracy: 98.100\n",
      "Epoch: 2 48000/60000 loss: 0.059 accuracy: 98.300\n",
      "Epoch: 2 54000/60000 loss: 0.058 accuracy: 98.217\n",
      "Epoch: 2 60000/60000 loss: 0.055 accuracy: 98.400\n",
      "Epoch: 3 6000/60000 loss: 0.037 accuracy: 98.883\n",
      "Epoch: 3 12000/60000 loss: 0.040 accuracy: 98.633\n",
      "Epoch: 3 18000/60000 loss: 0.046 accuracy: 98.583\n",
      "Epoch: 3 24000/60000 loss: 0.051 accuracy: 98.617\n",
      "Epoch: 3 30000/60000 loss: 0.042 accuracy: 98.683\n",
      "Epoch: 3 36000/60000 loss: 0.040 accuracy: 98.833\n",
      "Epoch: 3 42000/60000 loss: 0.042 accuracy: 98.783\n",
      "Epoch: 3 48000/60000 loss: 0.045 accuracy: 98.817\n",
      "Epoch: 3 54000/60000 loss: 0.049 accuracy: 98.633\n",
      "Epoch: 3 60000/60000 loss: 0.046 accuracy: 98.500\n"
     ]
    }
   ],
   "metadata": {}
  },
  {
   "cell_type": "code",
   "execution_count": 17,
   "source": [
    "plt.plot(loss_list)"
   ],
   "outputs": [
    {
     "output_type": "execute_result",
     "data": {
      "text/plain": [
       "[<matplotlib.lines.Line2D at 0x7fd8ca63ae20>]"
      ]
     },
     "metadata": {},
     "execution_count": 17
    },
    {
     "output_type": "display_data",
     "data": {
      "image/png": "[encoded data removed]",
      "text/plain": [
       "<Figure size 432x288 with 1 Axes>"
      ]
     },
     "metadata": {
      "needs_background": "light"
     }
    }
   ],
   "metadata": {}
  },
  {
   "cell_type": "code",
   "execution_count": 18,
   "source": [
    "plt.plot(accuracy_list)"
   ],
   "outputs": [
    {
     "output_type": "execute_result",
     "data": {
      "text/plain": [
       "[<matplotlib.lines.Line2D at 0x7fd8ca67f430>]"
      ]
     },
     "metadata": {},
     "execution_count": 18
    },
    {
     "output_type": "display_data",
     "data": {
      "image/png": "[encoded data removed]",
      "text/plain": [
       "<Figure size 432x288 with 1 Axes>"
      ]
     },
     "metadata": {
      "needs_background": "light"
     }
    }
   ],
   "metadata": {}
  },
  {
   "cell_type": "code",
   "execution_count": 20,
   "source": [
    "test_accuracy = 0\n",
    "\n",
    "with torch.no_grad():\n",
    "    for i, (X_test, y_test) in enumerate(test_loader):\n",
    "        y_val = model(X_test)\n",
    "\n",
    "        predicted = torch.max(y_val.data, 1)[1]\n",
    "        test_accuracy += (predicted == y_test).sum()\n",
    "        print(f'{test_accuracy.item()*100/len(y_test)}%')"
   ],
   "outputs": [
    {
     "output_type": "stream",
     "name": "stdout",
     "text": [
      "98.74%\n"
     ]
    }
   ],
   "metadata": {}
  },
  {
   "cell_type": "code",
   "execution_count": null,
   "source": [],
   "outputs": [],
   "metadata": {}
  }
 ],
 "metadata": {
  "orig_nbformat": 4,
  "language_info": {
   "name": "python",
   "version": "3.8.8",
   "mimetype": "text/x-python",
   "codemirror_mode": {
    "name": "ipython",
    "version": 3
   },
   "pygments_lexer": "ipython3",
   "nbconvert_exporter": "python",
   "file_extension": ".py"
  },
  "kernelspec": {
   "name": "python3",
   "display_name": "Python 3.8.8 64-bit ('base': conda)"
  },
  "interpreter": {
   "hash": "dca0ade3e726a953b501b15e8e990130d2b7799f14cfd9f4271676035ebe5511"
  }
 },
 "nbformat": 4,
 "nbformat_minor": 2
}